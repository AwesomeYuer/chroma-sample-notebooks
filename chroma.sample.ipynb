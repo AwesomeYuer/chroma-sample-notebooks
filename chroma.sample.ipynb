{
 "cells": [
  {
   "cell_type": "code",
   "execution_count": null,
   "metadata": {},
   "outputs": [],
   "source": [
    "! sudo docker-compose up -d --build"
   ]
  },
  {
   "cell_type": "code",
   "execution_count": null,
   "metadata": {},
   "outputs": [],
   "source": [
    "! pip install pydantic\n",
    "\n",
    "! pip install overrides\n",
    "\n",
    "! pip install posthog\n",
    "\n",
    "! pip install sentence_transformers"
   ]
  },
  {
   "cell_type": "code",
   "execution_count": 53,
   "metadata": {},
   "outputs": [],
   "source": [
    "import chromadb\n",
    "from chromadb.config import Settings\n"
   ]
  },
  {
   "cell_type": "code",
   "execution_count": 54,
   "metadata": {},
   "outputs": [],
   "source": [
    "metric = \"cosine\"\n",
    "\n",
    "# Create a new chroma collection\n",
    "collection_name = \"embeddings\"\n",
    "\n",
    "_DIM_ = 1536\n",
    "\n",
    "persist_directory = \"db\""
   ]
  },
  {
   "cell_type": "code",
   "execution_count": 55,
   "metadata": {},
   "outputs": [],
   "source": [
    "# Create a new Chroma client with persistence enabled. \n",
    "\n",
    "chroma_client = chromadb.Client(Settings(chroma_api_impl=\"rest\",\n",
    "                                        chroma_server_host=\"localhost\",\n",
    "                                        chroma_server_http_port=\"8000\"\n",
    "                                    ))\n",
    "\n",
    "\n",
    "\n"
   ]
  },
  {
   "cell_type": "code",
   "execution_count": 56,
   "metadata": {},
   "outputs": [
    {
     "name": "stderr",
     "output_type": "stream",
     "text": [
      "No embedding_function provided, using default embedding function: SentenceTransformerEmbeddingFunction\n"
     ]
    }
   ],
   "source": [
    "# Start from scratch\n",
    "chroma_client.reset()\n",
    "\n",
    "collection = chroma_client.create_collection(\n",
    "    name=collection_name\n",
    "    , metadata={\"hnsw:space\": metric}\n",
    ")"
   ]
  },
  {
   "cell_type": "code",
   "execution_count": 57,
   "metadata": {},
   "outputs": [
    {
     "name": "stderr",
     "output_type": "stream",
     "text": [
      "No embedding_function provided, using default embedding function: SentenceTransformerEmbeddingFunction\n"
     ]
    }
   ],
   "source": [
    "import random\n",
    "import numpy as np\n",
    "from datetime import datetime\n",
    "\n",
    "\n",
    "collection = chroma_client.get_collection(collection_name)\n",
    "\n",
    "def insert(collection, num, dim):\n",
    "    # Add some data to the collection\n",
    "    collection.add(\n",
    "        embeddings=[\n",
    "            [random.random() for _ in range(dim)] for _ in range(num)\n",
    "        ],\n",
    "        metadatas=\n",
    "            [{\"title\" : \"title {0}\".format(datetime.now()), \"content\": \"content {0}\".format(datetime.now())} for _ in range(num)]\n",
    "        ,\n",
    "        documents=[\"http://www.badiu.com?{0}\".format(datetime.now()) for _ in range(num)],\n",
    "        ids=[\"id{0}\".format(num)],\n",
    "    )"
   ]
  },
  {
   "cell_type": "code",
   "execution_count": 58,
   "metadata": {},
   "outputs": [
    {
     "name": "stderr",
     "output_type": "stream",
     "text": [
      "No embedding_function provided, using default embedding function: SentenceTransformerEmbeddingFunction\n"
     ]
    }
   ],
   "source": [
    "collection = chroma_client.get_collection(collection_name)"
   ]
  },
  {
   "cell_type": "code",
   "execution_count": 59,
   "metadata": {},
   "outputs": [
    {
     "name": "stderr",
     "output_type": "stream",
     "text": [
      "No embedding_function provided, using default embedding function: SentenceTransformerEmbeddingFunction\n"
     ]
    }
   ],
   "source": [
    "collection = chroma_client.get_collection(collection_name)\n",
    "\n",
    "collection.count()\n",
    "\n",
    "insert(collection, 1, _DIM_)\n",
    "\n",
    "\n",
    "# Persist the DB. This also happens automatically when the client is garbage collected.\n",
    "# In a notebook, prefer to call persist explicitly.\n",
    "# chroma_client.persist()"
   ]
  },
  {
   "cell_type": "code",
   "execution_count": 60,
   "metadata": {},
   "outputs": [
    {
     "name": "stderr",
     "output_type": "stream",
     "text": [
      "No embedding_function provided, using default embedding function: SentenceTransformerEmbeddingFunction\n"
     ]
    },
    {
     "data": {
      "text/plain": [
       "1"
      ]
     },
     "execution_count": 60,
     "metadata": {},
     "output_type": "execute_result"
    }
   ],
   "source": [
    "collection = chroma_client.get_collection(collection_name)\n",
    "\n",
    "collection.count()"
   ]
  },
  {
   "cell_type": "code",
   "execution_count": 61,
   "metadata": {},
   "outputs": [
    {
     "name": "stderr",
     "output_type": "stream",
     "text": [
      "No embedding_function provided, using default embedding function: SentenceTransformerEmbeddingFunction\n"
     ]
    }
   ],
   "source": [
    "# Create a new client with the same settings\n",
    "new_client = chromadb.Client(\n",
    "    Settings(\n",
    "        persist_directory=persist_directory,\n",
    "        chroma_db_impl=\"duckdb+parquet\",\n",
    "    )\n",
    ")\n",
    "\n",
    "new_client = chromadb.Client(Settings(chroma_api_impl=\"rest\",\n",
    "                                        chroma_server_host=\"localhost\",\n",
    "                                        chroma_server_http_port=\"8000\"\n",
    "                                    ))\n",
    "\n",
    "\n",
    "# Start from scratch\n",
    "# client.reset()\n",
    "\n",
    "# Load the collection\n",
    "collection = new_client.get_collection(collection_name)"
   ]
  },
  {
   "cell_type": "code",
   "execution_count": 63,
   "metadata": {},
   "outputs": [
    {
     "name": "stdout",
     "output_type": "stream",
     "text": [
      "{'ids': [['id1']], 'distances': [[0.2514723539352417]], 'embeddings': None, 'metadatas': [[{'title': 'title 2023-05-18 08:25:08.322091', 'content': 'content 2023-05-18 08:25:08.322106'}]], 'documents': [['http://www.badiu.com?2023-05-18 08:25:08.322110']]}\n"
     ]
    }
   ],
   "source": [
    "# Query the collection\n",
    "results = collection.query(\n",
    "    query_embeddings= [random.random() for _ in range(_DIM_)]\n",
    "    , n_results=1\n",
    "    ,\n",
    ")\n",
    "\n",
    "print(results)"
   ]
  },
  {
   "cell_type": "code",
   "execution_count": 15,
   "metadata": {},
   "outputs": [
    {
     "name": "stdout",
     "output_type": "stream",
     "text": [
      "Time spent: 0.00\n"
     ]
    },
    {
     "data": {
      "text/plain": [
       "20"
      ]
     },
     "execution_count": 15,
     "metadata": {},
     "output_type": "execute_result"
    }
   ],
   "source": [
    "# import logging\n",
    "from codetiming import Timer\n",
    "import time\n",
    "\n",
    "t = Timer(\"example\", text=\"Time spent: {:.2f}\")\n",
    "t.start()\n",
    "time.sleep(1)\n",
    "t.stop()\n",
    "\n",
    "\n",
    "# t.start()\n",
    "# time.sleep(10)\n",
    "# t.stop()\n",
    "\n",
    "# Timer.timers.max(\"example\")\n",
    "# Timer.timers.min(\"example\")\n",
    "Timer.timers.count(\"example\") \n",
    "# Timer.timers.stdev(\"example\") "
   ]
  }
 ],
 "metadata": {
  "kernelspec": {
   "display_name": "Python 3",
   "language": "python",
   "name": "python3"
  },
  "language_info": {
   "codemirror_mode": {
    "name": "ipython",
    "version": 3
   },
   "file_extension": ".py",
   "mimetype": "text/x-python",
   "name": "python",
   "nbconvert_exporter": "python",
   "pygments_lexer": "ipython3",
   "version": "3.8.10"
  },
  "orig_nbformat": 4
 },
 "nbformat": 4,
 "nbformat_minor": 2
}
